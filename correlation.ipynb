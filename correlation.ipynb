{
 "cells": [
  {
   "cell_type": "markdown",
   "metadata": {},
   "source": [
    "# Лабораторная работа - Корреляционный анализ в Python\n"
   ]
  },
  {
   "cell_type": "markdown",
   "metadata": {},
   "source": [
    "### Цели\n",
    "\n",
    "* Часть 1: Набор данных\n",
    "* Часть 2: Диаграммы рассеяния и корреляционные переменные\n",
    "* Часть 3: Расчёт корреляции с Python\n",
    "* Часть 4: Визуализация"
   ]
  },
  {
   "cell_type": "markdown",
   "metadata": {},
   "source": [
    "### История / Cценарий\n",
    "\n",
    "Корреляция является важной статистической зависимостью, которая может указывать, связаны ли линейные значения переменных.\n",
    "\n",
    "В этой лабораторной работе вы узнаете, как использовать Python для расчета корреляции. В Части 1 Вы подготовите набор данных. В Части 2 Вы узнаете, как определить, являются ли переменные в данном наборе данных взаимозависимыми. Наконец, в Части 3, Вы будете использовать Python для вычисления корреляции между двумя наборами переменных."
   ]
  },
  {
   "cell_type": "markdown",
   "metadata": {},
   "source": [
    "### Необходимо:\n",
    "* Библиотеки Python: pandas, numpy, matplotlib, seaborn\n",
    "* Файл данных: brainsize.txt"
   ]
  },
  {
   "cell_type": "markdown",
   "metadata": {},
   "source": [
    "## Часть 1: Набор данных"
   ]
  },
  {
   "cell_type": "markdown",
   "metadata": {},
   "source": [
    "Вы будете использовать набор данных, который содержит выборку 40 студентов правшей с вводного курса по Психологии из университета Southwestern. Испытуемые прошли четыре субтеста (Vocabulary, Similarities, Block Design, и Picture Completion) для расчёта шкалы интеллекта взрослых по Векслеру. Исследователи использовали магнитно-резонансную томографию (МРТ) для определения размера мозга у субъектов. Также включены сведения о гендерных показателях и размере тела (рост и вес). Исследователи скрыли вес двух испытуемых и высоту одного из них по причинам конфиденциальности.\n",
    "Для набора данных были применены две простые модификации:\n",
    "\n",
    "1. Заменены вопросительные знаки, используемые для представления скрытых данных, описанных выше, строкой «NaN». Замена была выполнена, потому что Pandas не обрабатывает вопросительные знаки правильно.\n",
    "\n",
    "2. Заменены все символы табуляции запятыми, преобразуя набор данных в набор данных CSV.\n",
    "\n",
    "Готовый набор данных сохранён как `brainsize.txt`."
   ]
  },
  {
   "cell_type": "markdown",
   "metadata": {},
   "source": [
    "#### Шаг 1: Загрузка набора данных из файла.\n",
    "\n",
    "До того, как набор данных можно использовать, он должен быть загружен в память.\n",
    "\n",
    "В приведенном ниже коде первая строка импортирует модули `pandas` и определяет `pd` как дескриптор, который ссылается на один из модулей.\n",
    "\n",
    "Вторая строка загружает CSV-файл набора данных в переменную с именем `brainFile`.\n",
    "\n",
    "Третья строка использует метод `read_csv()` из библиотеки `pandas`, чтобы преобразовать набор данных CSV, хранящийся в `brainFile` в кадр данных. Затем кадр данных хранится в переменной `brainFrame`.\n",
    "\n",
    "Запустите ячейку ниже, чтобы выполнить описанные функции."
   ]
  },
  {
   "cell_type": "code",
   "execution_count": null,
   "metadata": {},
   "outputs": [],
   "source": [
    " import pandas as pd \n",
    "  \n",
    " brainFile = 'brainsize.txt' \n",
    " brainFrame = pd.read_csv(brainFile, delimiter='\t') \n",
    " print(brainFrame) \n"
   ]
  },
  {
   "cell_type": "markdown",
   "metadata": {},
   "source": [
    "#### Шаг 2. Проверка кадра данных.\n",
    "\n",
    "Чтобы убедиться, что кадр данных правильно загружен и создан, используйте метод `head()`. Метод `head()` отображает первые пять записей в кадре данных."
   ]
  },
  {
   "cell_type": "code",
   "execution_count": null,
   "metadata": {},
   "outputs": [],
   "source": [
    " import pandas as pd \n",
    "  \n",
    " brainFile = 'brainsize.txt' \n",
    " brainFrame = pd.read_csv(brainFile, delimiter='\t') \n",
    " print(brainFrame.head()) \n"
   ]
  },
  {
   "cell_type": "markdown",
   "metadata": {},
   "source": [
    "Метод head() принимает параметр - число строк, отобразите первые 10 строк таблицы"
   ]
  },
  {
   "cell_type": "code",
   "execution_count": null,
   "metadata": {},
   "outputs": [],
   "source": [
    " import pandas as pd \n",
    "  \n",
    " brainFile = 'brainsize.txt' \n",
    " brainFrame = pd.read_csv(brainFile, delimiter='\t') \n",
    " print(brainFrame.head(10)) \n"
   ]
  },
  {
   "cell_type": "markdown",
   "metadata": {},
   "source": [
    "Также Dataframe имеет метод tail(), который возвращает последние 5 строк кадра данных. Аналогично head() метод tail() принимает аргументом число строк, которые он вернет. Отобразите последние 8 строк таблицы."
   ]
  },
  {
   "cell_type": "code",
   "execution_count": null,
   "metadata": {},
   "outputs": [],
   "source": [
    " import pandas as pd \n",
    "  \n",
    " brainFile = 'brainsize.txt' \n",
    " brainFrame = pd.read_csv(brainFile, delimiter='\t') \n",
    " print(brainFrame.tail(8)) \n"
   ]
  },
  {
   "cell_type": "markdown",
   "metadata": {},
   "source": [
    "## Часть 2: Диаграммы рассеяния и корреляционные переменные"
   ]
  },
  {
   "cell_type": "markdown",
   "metadata": {},
   "source": [
    "#### Шаг 1: метод `describe()` в библиотеке pandas.\n",
    "Библиотека pandas включает в себя метод `describe()`, который выполняет одни и те же общие вычисления на предложенном наборе данных. Помимо базовых операций таких, как подсчёт, расчёт среднего значения, расчёт среднеквадратического отклонения, расчёт минимума, и максимума,  `describe()` также отличный способ быстро проверить достоверность значений в кадре данных.<p>\n",
    "Ниже используйте функцию describe, для вывода статистики по данным"
   ]
  },
  {
   "cell_type": "code",
   "execution_count": null,
   "metadata": {},
   "outputs": [],
   "source": [
    " import pandas as pd \n",
    "  \n",
    " brainFile = 'brainsize.txt' \n",
    " brainFrame = pd.read_csv(brainFile, delimiter='\t') \n",
    " print(brainFrame.describe()) \n"
   ]
  },
  {
   "cell_type": "markdown",
   "metadata": {},
   "source": [
    "#### Шаг 2: Диаграммы рассеяния\n",
    "\n",
    "Диаграммы рассеяния важны при работе с корреляциями, поскольку они позволяют быстро визуально проверить природу связи между переменными. В этой лабораторной работе используется коэффициент корреляции Пирсона, который чувствителен только к линейной зависимости между двумя переменными. Также существуют другие более надежные методы корреляции, но они выходят за рамки этой лабораторной работы.\n",
    "\n",
    "##### a. Загрузите необходимые модули.\n",
    "Прежде чем строить графики, необходимо импортировать несколько модулей, а именно `numpy` и `matplotlib`. Запустите ячейку ниже, чтобы загрузить эти модули."
   ]
  },
  {
   "cell_type": "code",
   "execution_count": null,
   "metadata": {},
   "outputs": [],
   "source": [
    "import numpy as np\n",
    "import matplotlib.pyplot as plt"
   ]
  },
  {
   "cell_type": "markdown",
   "metadata": {},
   "source": [
    "##### b. Разделите данные.\n",
    "Чтобы гарантировать, что результаты не будут искажены из-за различий в мужских и женских телах, кадр данных разбит на два: один содержит все мужские записи, а другой - только женские экземпляры. <p>\n",
    "Создайте два новых кадра данных: menDf и womenDf, каждый из которых содержит соответствующие записи."
   ]
  },
  {
   "cell_type": "code",
   "execution_count": null,
   "metadata": {},
   "outputs": [],
   "source": [
    " import pandas as pd \n",
    " import numpy as np \n",
    " import matplotlib.pyplot as plt \n",
    "  \n",
    " brainFile = 'brainsize.txt' \n",
    " brainFrame = pd.read_csv(brainFile, delimiter='\t') \n",
    " menDf = brainFrame[(brainFrame['Gender'] == 'Male')] \n",
    " womenDf = brainFrame[(brainFrame['Gender'] == 'Female')] \n",
    " print(menDf.head()) \n",
    " print(womenDf.head()) \n"
   ]
  },
  {
   "cell_type": "markdown",
   "metadata": {},
   "source": [
    "##### c. Постройте графики.\n",
    "Поскольку набор данных включает в себя три различных измерения интеллекта (PIQ, FSIQ и VIQ), первая строка ниже использует метод `mean()` из библиотеки Pandas для вычисления среднего значения между тремя измерениями и сохранения результата в переменной `menMeanSmarts`. Обратите внимание, что первая строка относится к menDf, отфильтрованному кадру данных, содержащему только мужские записи.<p>\n",
    "Вторая строка использует метод `scatter()` библиотеки `matplotlib` для создания графика диаграммы рассеяния между переменной `menMeanSmarts` и атрибутом `MRI_Count`. MRI_Count в этом наборе данных можно рассматривать как меру физического размера мозга испытуемых.<p>\n",
    "Третья строка просто отображает график.<p>\n",
    "Четвертая строка используется для гарантированного отображения графика в этом блокноте."
   ]
  },
  {
   "cell_type": "code",
   "execution_count": null,
   "metadata": {},
   "outputs": [],
   "source": [
    " import pandas as pd \n",
    " import numpy as np \n",
    " import matplotlib.pyplot as plt \n",
    "  \n",
    " brainFile = 'brainsize.txt' \n",
    " brainFrame = pd.read_csv(brainFile, delimiter='\t') \n",
    " menDf = brainFrame[(brainFrame['Gender'] == 'Male')] \n",
    " womenDf = brainFrame[(brainFrame['Gender'] == 'Female')] \n",
    " print(brainFrame.head()) \n",
    " menMeanSmarts = menDf[[\"PIQ\", \"FSIQ\", \"VIQ\"]].mean(axis=1) \n",
    " plt.scatter(menMeanSmarts, menDf[\"MRI_Count\"]) \n",
    " plt.show() \n"
   ]
  },
  {
   "cell_type": "markdown",
   "metadata": {},
   "source": [
    "Аналогичным образом создайте график диаграммы рассеяния для кадра данных, содержащему только женские записи."
   ]
  },
  {
   "cell_type": "code",
   "execution_count": null,
   "metadata": {
    "scrolled": true
   },
   "outputs": [],
   "source": [
    " import pandas as pd \n",
    " import numpy as np \n",
    " import matplotlib.pyplot as plt \n",
    "  \n",
    " brainFile = 'brainsize.txt' \n",
    " brainFrame = pd.read_csv(brainFile, delimiter='\t') \n",
    " menDf = brainFrame[(brainFrame['Gender'] == 'Male')] \n",
    " womenDf = brainFrame[(brainFrame['Gender'] == 'Female')] \n",
    " womenMeanSmarts = womenDf[[\"PIQ\", \"FSIQ\", \"VIQ\"]].mean(axis=1) \n",
    " plt.scatter(womenMeanSmarts, womenDf[\"MRI_Count\"]) \n",
    " plt.show() \n"
   ]
  },
  {
   "cell_type": "markdown",
   "metadata": {},
   "source": [
    "## Часть 3: Вычисление корреляции с Python\n"
   ]
  },
  {
   "cell_type": "markdown",
   "metadata": {},
   "source": [
    "#### Шаг 1: Рассчитайте корреляцию для brainFrame.\n",
    "Метод `corr()` библиотеки pandas обеспечивает простой способ вычисления корреляции для кадра данных. Просто применяя метод на кадре данных, можно получить корреляцию между всеми переменными одновременно."
   ]
  },
  {
   "cell_type": "code",
   "execution_count": null,
   "metadata": {},
   "outputs": [],
   "source": [
    " import pandas as pd \n",
    " import numpy as np \n",
    " import matplotlib.pyplot as plt \n",
    "  \n",
    " brainFile = 'brainsize.txt' \n",
    " brainFrame = pd.read_csv(brainFile, delimiter='\t') \n",
    "  \n",
    " print(brainFrame.head())    # Просмотр первых нескольких строк данных \n",
    " print(brainFrame.dtypes)    # Проверяем типы данных в DataFrame \n",
    "  \n",
    " brainFrame['Gender'] = np.where(brainFrame['Gender'] == 'Male', 1, 0)   # Кодируем переменные, например, 'Gender' в числовые значения \n",
    "  \n",
    " print(brainFrame.dtypes)    # Проверяем типы данных снова \n",
    "  \n",
    " correlation_matrix = brainFrame.corr(method='pearson') \n",
    " print(correlation_matrix) \n"
   ]
  },
  {
   "cell_type": "markdown",
   "metadata": {},
   "source": [
    "Обратите внимание на диагональ слева направо в таблице корреляции, сгенерированной выше. Почему диагональ заполнена значениями 1? Это совпадение? Объясните."
   ]
  },
  {
   "cell_type": "markdown",
   "metadata": {},
   "source": [
    "В таблице корреляции значения на диагонали равны 1, и это не является совпадением.  \n",
"Значения на диагонали представляют собой корелляцию переменной с самой собой. В любом наборе данных коэффициент корреляции (корреляция Пирсона) между переменной и самой собой всегда равен 1, так как любая переменная полностью коррелирует сама с собой.  \n",
"Это свойство является основным в определении корреляции и является следствием того, что общая вариация переменной строго равна её собственной вариации. \n"
   ]
  },
  {
   "cell_type": "markdown",
   "metadata": {},
   "source": [
    "Продолжая смотреть на таблицу корреляции выше, обратите внимание, что значения зеркалируются; значения под диагональю имеют зеркальный аналог над ней. Это совпадение? Объясните."
   ]
  },
  {
   "cell_type": "markdown",
   "metadata": {},
   "source": [
    " Да, значения в таблице корреляции действительно зеркалятся, и это также не является совпадением.  \n",
" Корреляция между переменными X и Y будет равна корреляции между Y и X.  \n",
" Это свойство следует из симметрии формулы для вычисления коэффициента корреляции: \n",
" r(X,V)=(Cov(X,Y))/QxQy \n",
" где Cov(X,Y) - это ковариация между X и Y \n",
" QxQy - стандартные отклонения X и Y соответственно \n",
" Поскольку ковариация является симметричной операцией, следовательно, Cov(X,Y) = Cov(Y,X), что и приводит к зеркальному отражению значения корреляции в таблице. \n"
   ]
  },
  {
   "cell_type": "markdown",
   "metadata": {},
   "source": [
    "Используя тот же метод `corr()`, вычислите корреляцию переменных, содержащихся в кадре с женскими записями:"
   ]
  },
  {
   "cell_type": "code",
   "execution_count": null,
   "metadata": {},
   "outputs": [],
   "source": [
" import pandas as pd \n",
" import numpy as np \n",
" import matplotlib.pyplot as plt \n",
"  \n",
" brainFile = 'brainsize.txt' \n",
" brainFrame = pd.read_csv(brainFile, delimiter='\t') \n",
" menDf = brainFrame[(brainFrame['Gender'] == 'Male')] \n",
" womenDf = brainFrame[(brainFrame['Gender'] == 'Female')] \n",
"  \n",
" print(womenDf.head())    # Просмотр первых нескольких строк данных \n",
" print(womenDf.dtypes)    # Проверяем типы данных в DataFrame \n",
"  \n",
" womenDf['Gender'] = np.where(womenDf['Gender'] == 'Female', 1, 0)   # Кодируем переменные, например, 'Gender' в числовые значения \n",
"  \n",
" print(womenDf.dtypes)    # Проверяем типы данных снова \n",
"  \n",
" correlation_matrix = womenDf.corr(method='pearson') \n",
" print(correlation_matrix) \n"
   ]
  },
  {
   "cell_type": "markdown",
   "metadata": {},
   "source": [
    "И то же самое можно сделать для переменных, содержащихся в кадре с мужскими записями:"
   ]
  },
  {
   "cell_type": "code",
   "execution_count": null,
   "metadata": {},
   "outputs": [],
   "source": [
" import pandas as pd \n",
" import numpy as np \n",
" import matplotlib.pyplot as plt \n",
"  \n",
" brainFile = 'brainsize.txt' \n",
" brainFrame = pd.read_csv(brainFile, delimiter='\t') \n",
" menDf = brainFrame[(brainFrame['Gender'] == 'Male')] \n",
" womenDf = brainFrame[(brainFrame['Gender'] == 'Female')] \n",
"  \n",
" print(menDf.head())    # Просмотр первых нескольких строк данных \n",
" print(menDf.dtypes)    # Проверяем типы данных в DataFrame \n",
"  \n",
" menDf['Gender'] = np.where(menDf['Gender'] == 'Male', 1, 0)   # Кодируем переменные, например, 'Gender' в числовые значения \n",
"  \n",
" print(menDf.dtypes)    # Проверяем типы данных снова \n",
"  \n",
" correlation_matrix = menDf.corr(method='pearson') \n",
" print(correlation_matrix) \n"

   ]
  },
  {
   "cell_type": "markdown",
   "metadata": {},
   "source": [
    "## Часть 4: Визуализация"
   ]
  },
  {
   "cell_type": "markdown",
   "metadata": {},
   "source": [
    "#### Шаг 1: Установите Seaborn.\n",
    "Чтобы упростить визуализацию корреляций данных, можно использовать тепловую карту. На основе цветных квадратов тепловая карта может помочь выявить корреляции с первого взгляда.\n",
    "\n",
    "Модуль Python с именем `seaborn` очень упрощает построение тепловых карт.\n",
    "\n",
    "Сначала запустите ячейку ниже, чтобы загрузить и установить модуль `seaborn`. (закомментируйте, если библиотека установлена)"
   ]
  },
  {
   "cell_type": "code",
   "execution_count": null,
   "metadata": {},
   "outputs": [],
   "source": [
    "# Ячейка для кода № 11\n",
    "pip install seaborn"
   ]
  },
  {
   "cell_type": "markdown",
   "metadata": {},
   "source": [
    "#### Шаг 2: Нарисуйте корреляционную тепловую карту.\n",
    "\n",
    "Теперь, когда кадры данных готовы, можно отобразить тепловые карты. Далее приведен анализ кода из ячейки ниже:\n",
    "\n",
    "Строка 1: Создает таблицу корреляции, основанную на фрейме данных `womenNoGenderDf` и хранит его в `wcorr`.<br>\n",
    "Строка 2: Использует метод `heatmap()` библиотеки `seaborn` для генерации и построения тепловой карты. Обратите внимание, что `heatmap()` принимает `wcorr`, как параметр.<br>\n",
    "Строка 3: используется для экспорта и сохранения созданной тепловой карты в виде PNG-изображения. Хотя строка 3 не активна (перед ней стоит символ `#`, заставляя интерпретатор игнорировать ее), она сохранена в информационных целях."
   ]
  },
  {
   "cell_type": "code",
   "execution_count": null,
   "metadata": {},
   "outputs": [],
   "source": [
" import pandas as pd \n",
" import numpy as np \n",
" import matplotlib.pyplot as plt \n",
" import seaborn as sns \n",
"  \n",
" brainFile = 'brainsize.txt' \n",
" brainFrame = pd.read_csv(brainFile, delimiter='\t') \n",
" menDf = brainFrame[(brainFrame['Gender'] == 'Male')] \n",
" womenDf = brainFrame[(brainFrame['Gender'] == 'Female')] \n",
"  \n",
" womenDf['Gender'] = np.where(womenDf['Gender'] == 'Female', 1, 0) \n",
" mcorr = womenDf.corr() \n",
" sns.heatmap(mcorr) \n",
" plt.tight_layout() \n",
" plt.savefig('attribute_correlationsWomans.png') \n"
   ]
  },
  {
   "cell_type": "markdown",
   "metadata": {},
   "source": [
    "Аналогичным образом создайте и отобразите тепловую карту для кадра данных с мужчинами."
   ]
  },
  {
   "cell_type": "code",
   "execution_count": null,
   "metadata": {},
   "outputs": [],
   "source": [
" import pandas as pd \n",
" import numpy as np \n",
" import matplotlib.pyplot as plt \n",
" import seaborn as sns \n",
"  \n",
" brainFile = 'brainsize.txt' \n",
" brainFrame = pd.read_csv(brainFile, delimiter='\t') \n",
" menDf = brainFrame[(brainFrame['Gender'] == 'Male')] \n",
" womenDf = brainFrame[(brainFrame['Gender'] == 'Female')] \n",
"  \n",
" menDf['Gender'] = np.where(menDf['Gender'] == 'Male', 1, 0) \n",
" mcorr = menDf.corr() \n",
" sns.heatmap(mcorr) \n",
" plt.tight_layout() \n",
" plt.savefig('attribute_correlationsMans.png') \n"
   ]
  },
  {
   "cell_type": "markdown",
   "metadata": {},
   "source": [
    "У многих пар переменных корреляция близка к нулю. Что это значит?"
   ]
  },
  {
   "cell_type": "markdown",
   "metadata": {},
   "source": [
" Корреляция близка к нулю указывает на то, что между переменными отсутствует или очень слабо выражена линейная зависимость.  \n",
" Это значит, что изменение одной переменной не приводит к систематическому изменению другой.  \n",
" Например, может быть, что они влияют друг на друга через какие-то третьи факторы или их взаимосвязь является нелинейной.  \n",
" Также, корреляция не свидетельствует о наличии причинно-следственной связи, поэтому даже если переменные имеют высокую корреляцию, это не означает, что одна переменная вызывает изменения в другой. \n"
   ]
  },
  {
   "cell_type": "markdown",
   "metadata": {},
   "source": [
    "Зачем делать разделение по полу?"
   ]
  },
  {
   "cell_type": "markdown",
   "metadata": {},
   "source": [
" Разделение по полу позволяет исследовать различия в данных, которые могут быть связаны с гендерными особенностями.  \n",
" Пол может оказывать влияние на биологические, психологические и социальные аспекты, что, в свою очередь, может отражаться в характеристиках, таких как размер мозга. Анализ по полу может помочь выявить потенциальные различия в корреляциях и дать более полное представление о том, как различные факторы влияют на изучаемые переменные.  \n",
" Это важно для более точного анализа и интерпретации данных, а также может иметь практические последствия в медицине и психологии. \n"

   ]
  },
  {
   "cell_type": "markdown",
   "metadata": {},
   "source": [
    "Какие переменные имеют более сильную корреляцию с размером мозга (MRI_Count)? Это ожидалось? Объясните."
   ]
  },
  {
   "cell_type": "markdown",
   "metadata": {},
   "source": [
" Чтобы определить, какие переменные имеют более сильную корреляцию с размером мозга (например, переменная MRI_Count), необходимо проанализировать матрицу корреляции.  \n",
" Обычно можно ожидать, что размер мозга будет сильно коррелировать с переменными, связанными с когнитивными функциями, обучаемостью, а также с переменными, отражающими анатомические структуры мозга (например, объем других отделов мозга, размер черепа и т.д.). \n",
" Если, например, такие переменные, как IQ, уровень образования или социальные навыки, показывают высокую позитивную корреляцию с размером мозга, это может подтверждать гипотезу о том, что более крупный мозг может быть связан с лучшими когнитивными способностями.  \n",
" Однако нужно учитывать, что такие корреляции не обязательно указывают на причинно-следственную связь. \n"
   ]
  }
 ],
 "metadata": {
  "anaconda-cloud": {},
  "kernelspec": {
   "display_name": "Python 3 (ipykernel)",
   "language": "python",
   "name": "python3"
  },
  "language_info": {
   "codemirror_mode": {
    "name": "ipython",
    "version": 3
   },
   "file_extension": ".py",
   "mimetype": "text/x-python",
   "name": "python",
   "nbconvert_exporter": "python",
   "pygments_lexer": "ipython3",
   "version": "3.11.5"
  }
 },
 "nbformat": 4,
 "nbformat_minor": 4
}
