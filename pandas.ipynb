{
 "cells": [
  {
   "cell_type": "markdown",
   "id": "64d44da9-558f-4634-9de8-de0f46f93cfe",
   "metadata": {},
   "source": [
    "## Часть 1: Введение в Pandas\n",
    "\n",
    "Pandas - это библиотека Python для работы с данными. Она предоставляет мощные инструменты для анализа и манипуляции данными.\n",
    "\n",
    "### Установка Pandas\n",
    "\n",
    "Для начала убедитесь, что у вас установлена библиотека Pandas. Если ее нет, установите ее с помощью команды:\n"
   ]
  },
  {
   "cell_type": "code",
   "execution_count": null,
   "id": "7484df51-b002-414c-ae42-75a2df57c78d",
   "metadata": {},
   "outputs": [],
   "source": [
    "pip install pandas"
   ]
  },
  {
   "cell_type": "markdown",
   "id": "4b655e29-c3a5-4117-9860-2d6b9af62ac1",
   "metadata": {},
   "source": [
    "## Импорт библиотеки\n",
    "Давайте начнем с импорта библиотеки Pandas:"
   ]
  },
  {
   "cell_type": "code",
   "execution_count": 1,
   "id": "bfc3346f-3843-4aff-aec0-54321b9774f0",
   "metadata": {
    "tags": []
   },
   "outputs": [],
   "source": [
    "import pandas as pd"
   ]
  },
  {
   "cell_type": "markdown",
   "id": "ea8530e9-c179-48c1-8043-ff87f415ee67",
   "metadata": {},
   "source": [
    "## Часть 2: Работа с данными\n",
    "### Чтение данных\n",
    "Мы будем использовать датасет Titanic. Давайте прочитаем данные из CSV файла."
   ]
  },
  {
   "cell_type": "code",
   "execution_count": null,
   "id": "fa5deec6-c85e-4d88-89df-bea7d75fcbba",
   "metadata": {},
   "outputs": [],
   "source": [
    "# Чтение данных из файла 'titanic.csv'\n",
    "# Используйте метод pd.read_csv()\n",
    " import pandas as pd ",
    " df = pd.read_csv('titanic.csv') ",
    " print(df) "
   ]
  },
   {
          "data": {
            "image/png": "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",
            "text/plain": [
              "<Figure size 600x400 with 1 Axes>"
            ]
          },
          "metadata": {},
          "output_type": "display_data"
        },
    {
   "cell_type": "markdown",
   "id": "07dfd488-4960-495e-80d8-9cf5903449b6",
   "metadata": {},
   "source": [
    "### Предпросмотр данных\n",
    "Для первого ознакомления с данными давайте выведем первые несколько строк."
   ]
  },
  {
   "cell_type": "code",
   "execution_count": null,
   "id": "216e104c-259f-4ecd-9cd4-40362f61ca4e",
   "metadata": {},
   "outputs": [],
   "source": [
    "# Вывод первых 5 строк данных\n",
    "# Используйте метод .head()\n",
    "# write your code here"
   ]
  },
  {
   "cell_type": "markdown",
   "id": "b7ba5f57-07e1-4c0f-9b55-9d78638ee2cc",
   "metadata": {},
   "source": [
    "### Информация о данных\n",
    "Чтобы получить общую информацию о данных, воспользуйтесь методом .info()."
   ]
  },
  {
   "cell_type": "code",
   "execution_count": null,
   "id": "43650b4f-f3e7-4480-b874-b5552f564383",
   "metadata": {},
   "outputs": [],
   "source": []
  },
  {
   "cell_type": "markdown",
   "id": "a6857118-a82e-4586-a933-4eb0df9cb74e",
   "metadata": {},
   "source": [
    "### Работа с NaN\n",
    "Часто данные содержат пропущенные значения, которые представляются как NaN (Not a Number). Pandas предоставляет удобные методы для работы с ними.\n",
    "\n",
    "Проверка на наличие NaN. Методы fillna и dropna возвращают новые Dataframe, проверьте нет ли в них NaN"
   ]
  },
  {
   "cell_type": "code",
   "execution_count": 2,
   "id": "f7910fde-24f7-4cf8-991d-01f08bc45b63",
   "metadata": {
    "tags": []
   },
   "outputs": [],
   "source": [
    "# Проверка на наличие NaN в DataFrame\n",
    "# Используйте метод .isna()\n",
    "# write your code here"
   ]
  },
  {
   "cell_type": "markdown",
   "id": "1dadeaf7-e214-4552-b054-8e4a03714f72",
   "metadata": {},
   "source": [
    "Заполнение NaN"
   ]
  },
  {
   "cell_type": "code",
   "execution_count": null,
   "id": "7d901187-75a9-497e-8774-6e0dde584197",
   "metadata": {},
   "outputs": [],
   "source": [
    "# Заполнение NaN определенным значением (например, нулем)\n",
    "# Используйте метод .fillna()\n",
    "# write your code here"
   ]
  },
  {
   "cell_type": "markdown",
   "id": "6f32fddb-ec60-456b-8958-5c81b0357d49",
   "metadata": {},
   "source": [
    "Удаление строк с NaN"
   ]
  },
  {
   "cell_type": "code",
   "execution_count": 3,
   "id": "4d188deb-0818-4b01-b3a5-9d20d2166d10",
   "metadata": {
    "tags": []
   },
   "outputs": [],
   "source": [
    "# Удаление строк, содержащих NaN\n",
    "# Используйте метод .dropna()\n",
    "# write your code here"
   ]
  },
  {
   "cell_type": "markdown",
   "id": "7a4ff131-1593-4cd2-b2bc-e0ddb2442d3b",
   "metadata": {},
   "source": [
    "## Часть 3: Обработка DataFrame\n",
    "### Выбор данных\n",
    "Pandas позволяет выбирать данные по индексам, меткам столбцов и условиям."
   ]
  },
  {
   "cell_type": "code",
   "execution_count": 4,
   "id": "d11f6114-ce4b-4e71-afec-adf1d8c1ec6e",
   "metadata": {
    "tags": []
   },
   "outputs": [],
   "source": [
    "# Выбор столбца по метке\n",
    "# Используйте синтаксис DataFrame['название_столбца']\n",
    "# write your code here\n",
    "\n",
    "# Выбор нескольких столбцов\n",
    "# Используйте синтаксис DataFrame[['столбец_1', 'столбец_2']]\n",
    "# write your code here\n",
    "\n",
    "# Выбор строк по индексу\n",
    "# Используйте метод .loc[]\n",
    "# write your code here\n",
    "\n",
    "# Выбор строк и столбцов по условию\n",
    "# Используя логические операции, выберите мужчин старше 30\n",
    "# write your code here"
   ]
  },
  {
   "cell_type": "markdown",
   "id": "f3102de8-d2fd-4593-bf26-721316ae51e9",
   "metadata": {},
   "source": [
    "### Сортировка данных\n",
    "Сортировка данных по значениям столбцов."
   ]
  },
  {
   "cell_type": "code",
   "execution_count": 5,
   "id": "de5e850c-e920-4ae4-aadb-3f1953438b09",
   "metadata": {
    "tags": []
   },
   "outputs": [],
   "source": [
    "# Сортировка данных по столбцу 'столбец_1' по возрастанию\n",
    "# Используйте метод .sort_values()\n",
    "# write your code here"
   ]
  },
  {
   "cell_type": "markdown",
   "id": "eab3cd85-5e96-4228-8834-9ef53b93689a",
   "metadata": {},
   "source": [
    "### Группировка данных\n",
    "Pandas также позволяет группировать данные и выполнять агрегирующие операции."
   ]
  },
  {
   "cell_type": "code",
   "execution_count": 6,
   "id": "25ced901-0482-49a8-8c12-d192e84e3fb3",
   "metadata": {
    "tags": []
   },
   "outputs": [],
   "source": [
    "# Найдите долю выживших среди всех PClass\n",
    "# Используйте метод .groupby()\n",
    "# write your code here"
   ]
  },
  {
   "cell_type": "markdown",
   "id": "d0355db7-7bf9-46d1-ad51-5f2eddc42501",
   "metadata": {},
   "source": [
    "## Часть 4: Задания для практики\n",
    "Прочитайте данные из файла 'titanic.csv'.\n",
    "Проверьте, есть ли пропущенные значения в данных и заполните их нулями.\n",
    "Выведите первые 10 строк данных.\n",
    "Выберите только те строки, где значение в столбце 'Age' больше 30.\n",
    "Отсортируйте данные по столбцу 'Fare' в порядке убывания.\n",
    "Сгруппируйте данные по столбцу 'Pclass' и вычислите средний возраст ('Age') для каждого класса."
   ]
  },
  {
   "cell_type": "code",
   "execution_count": null,
   "id": "a1b4deaa-cd06-41b3-8084-5c2d3a867811",
   "metadata": {},
   "outputs": [],
   "source": []
  }
 ],
 "metadata": {
  "kernelspec": {
   "display_name": "Python 3 (ipykernel)",
   "language": "python",
   "name": "python3"
  },
  "language_info": {
   "codemirror_mode": {
    "name": "ipython",
    "version": 3
   },
   "file_extension": ".py",
   "mimetype": "text/x-python",
   "name": "python",
   "nbconvert_exporter": "python",
   "pygments_lexer": "ipython3",
   "version": "3.11.5"
  }
 },
 "nbformat": 4,
 "nbformat_minor": 5
}
